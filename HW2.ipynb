{
 "cells": [
  {
   "cell_type": "markdown",
   "id": "df72dac4-f7ac-4fca-ba0f-13f0852aba4c",
   "metadata": {},
   "source": [
    "# HW2 (프로그래밍언어론 2022년 1학기)"
   ]
  },
  {
   "cell_type": "markdown",
   "id": "b3ed9693-2d1d-452e-a76d-03e4ae77fa55",
   "metadata": {},
   "source": [
    "- 이름: 김승혜\n",
    "- 학번: 20190595"
   ]
  },
  {
   "cell_type": "markdown",
   "id": "0dc04f45-1bc8-463b-bb79-1a5cc17aba29",
   "metadata": {},
   "source": [
    "이름과 학번을 위에 작성하시오.\n",
    "\n",
    "----"
   ]
  },
  {
   "cell_type": "code",
   "execution_count": 1,
   "id": "1ac64b75-35f6-4db9-bcd9-8e7086e2c6ac",
   "metadata": {},
   "outputs": [],
   "source": [
    ":opt no-lint\n",
    "{-# LANGUAGE ScopedTypeVariables #-}"
   ]
  },
  {
   "cell_type": "code",
   "execution_count": 2,
   "id": "1ba26de5-e335-4bb8-9dc6-adbceedd41b6",
   "metadata": {},
   "outputs": [],
   "source": [
    "data RE = Null\n",
    "        | Epsilon\n",
    "        | Symbol Char\n",
    "        | Union RE RE\n",
    "        | Concat RE RE\n",
    "        | Star RE\n",
    "        deriving (Eq,Ord)\n",
    "-- https://stackoverflow.com/questions/27471937/showsprec-and-operator-precedences\n",
    "instance Show RE where\n",
    "  showsPrec _ Null    = showString \"\\\\varnothing{}\"\n",
    "  showsPrec _ Epsilon = showString \"\\\\varepsilon{}\"\n",
    "  showsPrec p (Symbol c) = showString [c]\n",
    "  showsPrec p (Union  r1 r2) = showParen (p > 6) $\n",
    "      showsPrec 6 r1 . showString \" | \" . showsPrec 6 r2\n",
    "  showsPrec p (Concat r1 r2) = showParen (p > 7) $\n",
    "      showsPrec 7 r1 . showsPrec 7 r2\n",
    "  showsPrec p (Star r) = showParen (p > 10) $\n",
    "      showsPrec 11 r . showString \"^{*}\"\n",
    "\n",
    "import IHaskell.Display\n",
    "\n",
    "instance IHaskellDisplay RE where\n",
    "  display r = display [latex $ \"$\"++show r++\"$\"]\n",
    "  \n",
    "import Data.List (intercalate)\n",
    "{-# LANGUAGE FlexibleInstances #-}\n",
    "instance {-# OVERLAPPING #-} IHaskellDisplay [RE] where\n",
    "    display rs = display . latex $ \"$[\\\\;\"++intercalate \",~\" [show r | r <- rs]++\"\\\\;]$\""
   ]
  },
  {
   "cell_type": "code",
   "execution_count": 3,
   "id": "520b176d-561e-4640-8eec-e9e14c2b7041",
   "metadata": {},
   "outputs": [
    {
     "data": {
      "text/html": [
       "<style>/* Styles used for the Hoogle display in the pager */\n",
       ".hoogle-doc {\n",
       "display: block;\n",
       "padding-bottom: 1.3em;\n",
       "padding-left: 0.4em;\n",
       "}\n",
       ".hoogle-code {\n",
       "display: block;\n",
       "font-family: monospace;\n",
       "white-space: pre;\n",
       "}\n",
       ".hoogle-text {\n",
       "display: block;\n",
       "}\n",
       ".hoogle-name {\n",
       "color: green;\n",
       "font-weight: bold;\n",
       "}\n",
       ".hoogle-head {\n",
       "font-weight: bold;\n",
       "}\n",
       ".hoogle-sub {\n",
       "display: block;\n",
       "margin-left: 0.4em;\n",
       "}\n",
       ".hoogle-package {\n",
       "font-weight: bold;\n",
       "font-style: italic;\n",
       "}\n",
       ".hoogle-module {\n",
       "font-weight: bold;\n",
       "}\n",
       ".hoogle-class {\n",
       "font-weight: bold;\n",
       "}\n",
       ".get-type {\n",
       "color: green;\n",
       "font-weight: bold;\n",
       "font-family: monospace;\n",
       "display: block;\n",
       "white-space: pre-wrap;\n",
       "}\n",
       ".show-type {\n",
       "color: green;\n",
       "font-weight: bold;\n",
       "font-family: monospace;\n",
       "margin-left: 1em;\n",
       "}\n",
       ".mono {\n",
       "font-family: monospace;\n",
       "display: block;\n",
       "}\n",
       ".err-msg {\n",
       "color: red;\n",
       "font-style: italic;\n",
       "font-family: monospace;\n",
       "white-space: pre;\n",
       "display: block;\n",
       "}\n",
       "#unshowable {\n",
       "color: red;\n",
       "font-weight: bold;\n",
       "}\n",
       ".err-msg.in.collapse {\n",
       "padding-top: 0.7em;\n",
       "}\n",
       ".highlight-code {\n",
       "white-space: pre;\n",
       "font-family: monospace;\n",
       "}\n",
       ".suggestion-warning { \n",
       "font-weight: bold;\n",
       "color: rgb(200, 130, 0);\n",
       "}\n",
       ".suggestion-error { \n",
       "font-weight: bold;\n",
       "color: red;\n",
       "}\n",
       ".suggestion-name {\n",
       "font-weight: bold;\n",
       "}\n",
       "</style><span class='get-type'>latex :: String -> DisplayData</span>"
      ],
      "text/plain": [
       "latex :: String -> DisplayData"
      ]
     },
     "metadata": {},
     "output_type": "display_data"
    },
    {
     "data": {
      "text/html": [
       "<style>/* Styles used for the Hoogle display in the pager */\n",
       ".hoogle-doc {\n",
       "display: block;\n",
       "padding-bottom: 1.3em;\n",
       "padding-left: 0.4em;\n",
       "}\n",
       ".hoogle-code {\n",
       "display: block;\n",
       "font-family: monospace;\n",
       "white-space: pre;\n",
       "}\n",
       ".hoogle-text {\n",
       "display: block;\n",
       "}\n",
       ".hoogle-name {\n",
       "color: green;\n",
       "font-weight: bold;\n",
       "}\n",
       ".hoogle-head {\n",
       "font-weight: bold;\n",
       "}\n",
       ".hoogle-sub {\n",
       "display: block;\n",
       "margin-left: 0.4em;\n",
       "}\n",
       ".hoogle-package {\n",
       "font-weight: bold;\n",
       "font-style: italic;\n",
       "}\n",
       ".hoogle-module {\n",
       "font-weight: bold;\n",
       "}\n",
       ".hoogle-class {\n",
       "font-weight: bold;\n",
       "}\n",
       ".get-type {\n",
       "color: green;\n",
       "font-weight: bold;\n",
       "font-family: monospace;\n",
       "display: block;\n",
       "white-space: pre-wrap;\n",
       "}\n",
       ".show-type {\n",
       "color: green;\n",
       "font-weight: bold;\n",
       "font-family: monospace;\n",
       "margin-left: 1em;\n",
       "}\n",
       ".mono {\n",
       "font-family: monospace;\n",
       "display: block;\n",
       "}\n",
       ".err-msg {\n",
       "color: red;\n",
       "font-style: italic;\n",
       "font-family: monospace;\n",
       "white-space: pre;\n",
       "display: block;\n",
       "}\n",
       "#unshowable {\n",
       "color: red;\n",
       "font-weight: bold;\n",
       "}\n",
       ".err-msg.in.collapse {\n",
       "padding-top: 0.7em;\n",
       "}\n",
       ".highlight-code {\n",
       "white-space: pre;\n",
       "font-family: monospace;\n",
       "}\n",
       ".suggestion-warning { \n",
       "font-weight: bold;\n",
       "color: rgb(200, 130, 0);\n",
       "}\n",
       ".suggestion-error { \n",
       "font-weight: bold;\n",
       "color: red;\n",
       "}\n",
       ".suggestion-name {\n",
       "font-weight: bold;\n",
       "}\n",
       "</style><span class='get-type'>display :: forall a. IHaskellDisplay a => a -> IO Display</span>"
      ],
      "text/plain": [
       "display :: forall a. IHaskellDisplay a => a -> IO Display"
      ]
     },
     "metadata": {},
     "output_type": "display_data"
    }
   ],
   "source": [
    ":type latex\n",
    ":type display"
   ]
  },
  {
   "cell_type": "code",
   "execution_count": 4,
   "id": "48710c7f",
   "metadata": {},
   "outputs": [
    {
     "data": {
      "text/latex": [
       "$\\varnothing{}$"
      ]
     },
     "metadata": {},
     "output_type": "display_data"
    },
    {
     "data": {
      "text/latex": [
       "$\\varepsilon{}$"
      ]
     },
     "metadata": {},
     "output_type": "display_data"
    },
    {
     "data": {
      "text/latex": [
       "$a$"
      ]
     },
     "metadata": {},
     "output_type": "display_data"
    }
   ],
   "source": [
    "Null\n",
    "Epsilon\n",
    "Symbol 'a'"
   ]
  },
  {
   "cell_type": "code",
   "execution_count": 5,
   "id": "cad24c41",
   "metadata": {},
   "outputs": [
    {
     "data": {
      "text/latex": [
       "$a | \\varepsilon{}$"
      ]
     },
     "metadata": {},
     "output_type": "display_data"
    },
    {
     "data": {
      "text/latex": [
       "$a | \\varepsilon{} | \\varepsilon{}$"
      ]
     },
     "metadata": {},
     "output_type": "display_data"
    },
    {
     "data": {
      "text/latex": [
       "$\\varepsilon{} | \\varepsilon{} | a$"
      ]
     },
     "metadata": {},
     "output_type": "display_data"
    },
    {
     "data": {
      "text/latex": [
       "$a | \\varepsilon{}\\varepsilon{}$"
      ]
     },
     "metadata": {},
     "output_type": "display_data"
    },
    {
     "data": {
      "text/latex": [
       "$\\varepsilon{}\\varepsilon{} | a$"
      ]
     },
     "metadata": {},
     "output_type": "display_data"
    }
   ],
   "source": [
    "Union (Symbol 'a') Epsilon\n",
    "Union (Symbol 'a') (Union Epsilon Epsilon)\n",
    "Union (Union Epsilon Epsilon) (Symbol 'a')\n",
    "Union (Symbol 'a') (Concat Epsilon Epsilon)\n",
    "Union (Concat Epsilon Epsilon) (Symbol 'a')"
   ]
  },
  {
   "cell_type": "code",
   "execution_count": 6,
   "id": "850e17a5-137e-4cc3-8051-a7b73c0fa6df",
   "metadata": {},
   "outputs": [
    {
     "data": {
      "text/latex": [
       "$a\\varepsilon{}\\varepsilon{}$"
      ]
     },
     "metadata": {},
     "output_type": "display_data"
    },
    {
     "data": {
      "text/latex": [
       "$\\varepsilon{}\\varepsilon{}a$"
      ]
     },
     "metadata": {},
     "output_type": "display_data"
    },
    {
     "data": {
      "text/latex": [
       "$a(\\varepsilon{} | \\varepsilon{})$"
      ]
     },
     "metadata": {},
     "output_type": "display_data"
    },
    {
     "data": {
      "text/latex": [
       "$(\\varepsilon{} | \\varepsilon{})a$"
      ]
     },
     "metadata": {},
     "output_type": "display_data"
    }
   ],
   "source": [
    "Concat (Symbol 'a') (Concat Epsilon Epsilon)\n",
    "Concat (Concat Epsilon Epsilon) (Symbol 'a')\n",
    "Concat (Symbol 'a') (Union Epsilon Epsilon)\n",
    "Concat (Union Epsilon Epsilon) (Symbol 'a')"
   ]
  },
  {
   "cell_type": "code",
   "execution_count": 7,
   "id": "01ddf892-070d-429d-ae0e-1603dc885f09",
   "metadata": {},
   "outputs": [
    {
     "data": {
      "text/latex": [
       "$a^{*}$"
      ]
     },
     "metadata": {},
     "output_type": "display_data"
    },
    {
     "data": {
      "text/latex": [
       "$(a | \\varepsilon{})^{*}$"
      ]
     },
     "metadata": {},
     "output_type": "display_data"
    },
    {
     "data": {
      "text/latex": [
       "$(a\\varepsilon{})^{*}$"
      ]
     },
     "metadata": {},
     "output_type": "display_data"
    },
    {
     "data": {
      "text/latex": [
       "$(a^{*})^{*}$"
      ]
     },
     "metadata": {},
     "output_type": "display_data"
    }
   ],
   "source": [
    "Star $ Symbol 'a'\n",
    "Star $ Union (Symbol 'a') Epsilon\n",
    "Star $ Concat (Symbol 'a') Epsilon\n",
    "Star $ Star $ Symbol 'a'"
   ]
  },
  {
   "cell_type": "markdown",
   "id": "74099eaa-222d-430f-bab1-ef9759851b6f",
   "metadata": {},
   "source": [
    "----\n",
    "## 정규식 간소화 비결정적 의미구조 계산기 (150점)\n",
    "$$    \\frac{~ ~}{~ \\varnothing\\,\\pmb\\mid\\;r_2 \\longmapsto r_2 ~}\n",
    "\\quad \\frac{~ ~}{~ r_1\\pmb\\mid\\,\\varnothing \\longmapsto r_1 ~}\n",
    "\\quad \\frac{~ ~}{~ \\varepsilon\\,r_2 \\longmapsto r_2 ~}\n",
    "\\quad \\frac{~ ~}{~ r_1\\,\\varepsilon \\longmapsto r_1 ~}\n",
    "\\quad \\frac{~ r \\longmapsto r' ~}{~ r^{*} \\longmapsto r'^{*} ~}\n",
    "$$\n",
    "$$    \\frac{~r_1 \\longmapsto~ r_1' ~}{~ r_1\\pmb\\mid\\,r_2 \\longmapsto r_1'\\pmb\\mid\\,r_2 ~}\n",
    "\\quad \\frac{~r_2 \\longmapsto~ r_2' ~}{~ r_1\\pmb\\mid\\,r_2 \\longmapsto r_1\\pmb\\mid\\,r_2' ~}\n",
    "\\quad \\frac{~r_1 \\longmapsto~ r_1' ~}{~ r_1r_2 \\longmapsto r_1'r_2 ~}\n",
    "\\quad \\frac{~r_2 \\longmapsto~ r_2' ~}{~ r_1r_2 \\longmapsto r_1r_2' ~}\n",
    "$$\n",
    "위 작은걸음 규칙에 따라 정규식을 간소화하는 계산기 함수 `step`을 작성하라.\n",
    "\n",
    "그리고 `step`을 확장한 `step'` 함수 및 수업시간에 다룬 `iterate` 함수 등을 활용해 모든 규칙을 최소한 한 번씩 사용하며\n",
    "여러 단계에 걸쳐 간소화되는 정규식 예제를 하나 작성해 더 이상 간소회되지 않을 때까지 여러 단계에 걸쳐 정규식을 간소화하는 과정을\n",
    "`mapM_`과 `print`를 활용해 출력하라."
   ]
  },
  {
   "cell_type": "code",
   "execution_count": 8,
   "id": "6dec9025-9969-42b2-ba0d-78170e1e9599",
   "metadata": {},
   "outputs": [],
   "source": [
    "step :: RE -> [RE]\n",
    "step Null = []\n",
    "step Epsilon = []\n",
    "step (Symbol c) = []\n",
    "step (Union Null r) = [r] ++ [Union Null r' | r' <- step r]\n",
    "step (Union r Null) = [r] ++ [Union r' Null | r' <- step r]\n",
    "step (Concat Epsilon r) = [r] ++ [Concat Epsilon r' | r' <- step r]\n",
    "step (Concat r Epsilon) = [r] ++ [Concat r' Epsilon | r' <- step r]\n",
    "step (Star r) = [Star r' | r' <- step r]\n",
    "step (Union r1 r2) = [Union r1' r2 | r1' <- step r1] ++ [Union r1 r2' | r2' <- step r2]\n",
    "step (Concat r1 r2) = [Concat r1' r2 | r1' <- step r1] ++ [Concat r1 r2' | r2' <- step r2]"
   ]
  },
  {
   "cell_type": "code",
   "execution_count": 9,
   "id": "02e0fa03-2880-4f18-8dc3-16e5cd722fa0",
   "metadata": {},
   "outputs": [],
   "source": [
    "import Data.List(nub)\n",
    "hat f = \\rs -> nub (concat [f r | r <- rs])\n",
    "\n",
    "step' :: [RE] -> [RE]\n",
    "step' = hat step"
   ]
  },
  {
   "cell_type": "code",
   "execution_count": 10,
   "id": "729ff29c-ced1-4e0d-8fe6-598606c8194a",
   "metadata": {},
   "outputs": [],
   "source": [
    "r0 = Concat (Union Null Epsilon `Concat` Symbol 'a')\n",
    "            (Symbol 'b' `Concat` Union Epsilon Null)\n",
    "    `Union`\n",
    "    Star (Symbol 'c' `Concat` Epsilon)"
   ]
  },
  {
   "cell_type": "code",
   "execution_count": 11,
   "id": "03c575e0-a951-4423-bdb7-5b8a873fcd57",
   "metadata": {},
   "outputs": [],
   "source": [
    "rss = iterate step' [r0]"
   ]
  },
  {
   "cell_type": "code",
   "execution_count": 12,
   "id": "bbe1a227-6b72-4ecc-bf4e-4efaf0b8168a",
   "metadata": {},
   "outputs": [
    {
     "data": {
      "text/latex": [
       "$[\\;(\\varnothing{} | \\varepsilon{})ab(\\varepsilon{} | \\varnothing{}) | (c\\varepsilon{})^{*}\\;]$"
      ]
     },
     "metadata": {},
     "output_type": "display_data"
    },
    {
     "data": {
      "text/latex": [
       "$[\\;\\varepsilon{}ab(\\varepsilon{} | \\varnothing{}) | (c\\varepsilon{})^{*},~(\\varnothing{} | \\varepsilon{})ab\\varepsilon{} | (c\\varepsilon{})^{*},~(\\varnothing{} | \\varepsilon{})ab(\\varepsilon{} | \\varnothing{}) | c^{*}\\;]$"
      ]
     },
     "metadata": {},
     "output_type": "display_data"
    },
    {
     "data": {
      "text/latex": [
       "$[\\;ab(\\varepsilon{} | \\varnothing{}) | (c\\varepsilon{})^{*},~\\varepsilon{}ab\\varepsilon{} | (c\\varepsilon{})^{*},~\\varepsilon{}ab(\\varepsilon{} | \\varnothing{}) | c^{*},~(\\varnothing{} | \\varepsilon{})ab | (c\\varepsilon{})^{*},~(\\varnothing{} | \\varepsilon{})ab\\varepsilon{} | c^{*}\\;]$"
      ]
     },
     "metadata": {},
     "output_type": "display_data"
    }
   ],
   "source": [
    "take 3 rss"
   ]
  },
  {
   "cell_type": "code",
   "execution_count": 13,
   "id": "007a5633-6961-4e95-82fe-f0f20bfcb1fc",
   "metadata": {},
   "outputs": [
    {
     "data": {
      "text/latex": [
       "$[\\;(\\varnothing{} | \\varepsilon{})ab(\\varepsilon{} | \\varnothing{}) | (c\\varepsilon{})^{*}\\;]$"
      ]
     },
     "metadata": {},
     "output_type": "display_data"
    },
    {
     "data": {
      "text/latex": [
       "$[\\;\\varepsilon{}ab(\\varepsilon{} | \\varnothing{}) | (c\\varepsilon{})^{*},~(\\varnothing{} | \\varepsilon{})ab\\varepsilon{} | (c\\varepsilon{})^{*},~(\\varnothing{} | \\varepsilon{})ab(\\varepsilon{} | \\varnothing{}) | c^{*}\\;]$"
      ]
     },
     "metadata": {},
     "output_type": "display_data"
    },
    {
     "data": {
      "text/latex": [
       "$[\\;ab(\\varepsilon{} | \\varnothing{}) | (c\\varepsilon{})^{*},~\\varepsilon{}ab\\varepsilon{} | (c\\varepsilon{})^{*},~\\varepsilon{}ab(\\varepsilon{} | \\varnothing{}) | c^{*},~(\\varnothing{} | \\varepsilon{})ab | (c\\varepsilon{})^{*},~(\\varnothing{} | \\varepsilon{})ab\\varepsilon{} | c^{*}\\;]$"
      ]
     },
     "metadata": {},
     "output_type": "display_data"
    },
    {
     "data": {
      "text/latex": [
       "$[\\;ab\\varepsilon{} | (c\\varepsilon{})^{*},~ab(\\varepsilon{} | \\varnothing{}) | c^{*},~\\varepsilon{}ab | (c\\varepsilon{})^{*},~\\varepsilon{}ab\\varepsilon{} | c^{*},~(\\varnothing{} | \\varepsilon{})ab | c^{*}\\;]$"
      ]
     },
     "metadata": {},
     "output_type": "display_data"
    },
    {
     "data": {
      "text/latex": [
       "$[\\;ab | (c\\varepsilon{})^{*},~ab\\varepsilon{} | c^{*},~\\varepsilon{}ab | c^{*}\\;]$"
      ]
     },
     "metadata": {},
     "output_type": "display_data"
    },
    {
     "data": {
      "text/latex": [
       "$[\\;ab | c^{*}\\;]$"
      ]
     },
     "metadata": {},
     "output_type": "display_data"
    }
   ],
   "source": [
    "takeWhile (not . null) rss"
   ]
  },
  {
   "cell_type": "markdown",
   "id": "53c67bb7-baa8-4216-a93f-1eaf0f46f103",
   "metadata": {},
   "source": [
    "----"
   ]
  },
  {
   "cell_type": "markdown",
   "id": "86cb4b2e-a4bf-436a-b36c-ac3d0b1054bf",
   "metadata": {},
   "source": [
    "## 교재 그림 4.2의 의미함수를 하스켈로 옮겨 작성하라 (150점)\n",
    "작성한 함수를 적절히 테스트한 내용도 포함해야 한다.\n",
    "정규식의 6요소를 각 요소에 대해, 항상 `False`인 `Null`을 제외하고는\n",
    "`True`인 경우와 `False`인 경우의 테스트를 해보아야 하므로, 최소 11개의 테스트는 있어야 할 것이다.\n",
    "충분한 테스트를 제시하지 않으면 감점 대상이 된다. (테스트가 부족할 때마다 10점씩 감점)\n",
    "\n",
    "함수가 정확히 구현되지 않으면 0점이며 정확하게 구현되지 않은 함수에 대한 테스트는 작성하더라도 0점이다.\n",
    "왜나하면 부정확한 함수 작성에 대해 테스트를 통해 잘못된 점을 찾아냈어야 하는데\n",
    "그렇지 못했다는 것은 테스트의 역할을 제대로 하지 못한 것이기 때문이다.\n",
    "그러니까 정확하지 않은 구현에 대한 부분점수는 없다."
   ]
  },
  {
   "cell_type": "code",
   "execution_count": 14,
   "id": "6047eb30-45e8-4f07-939b-0233a930ff23",
   "metadata": {},
   "outputs": [
    {
     "data": {
      "text/plain": [
       "(\"ab\",\"cd\")"
      ]
     },
     "metadata": {},
     "output_type": "display_data"
    }
   ],
   "source": [
    "splitAt 2 \"abcd\""
   ]
  },
  {
   "cell_type": "code",
   "execution_count": 15,
   "id": "5ade6acd-9b1c-4d52-8202-08c271a4de76",
   "metadata": {},
   "outputs": [],
   "source": [
    "splits s = [splitAt k s | k <- [0..length s]]"
   ]
  },
  {
   "cell_type": "code",
   "execution_count": 16,
   "id": "4d61397c-7ead-4ec7-9272-ed365eb18457",
   "metadata": {},
   "outputs": [
    {
     "data": {
      "text/html": [
       "<style>/* Styles used for the Hoogle display in the pager */\n",
       ".hoogle-doc {\n",
       "display: block;\n",
       "padding-bottom: 1.3em;\n",
       "padding-left: 0.4em;\n",
       "}\n",
       ".hoogle-code {\n",
       "display: block;\n",
       "font-family: monospace;\n",
       "white-space: pre;\n",
       "}\n",
       ".hoogle-text {\n",
       "display: block;\n",
       "}\n",
       ".hoogle-name {\n",
       "color: green;\n",
       "font-weight: bold;\n",
       "}\n",
       ".hoogle-head {\n",
       "font-weight: bold;\n",
       "}\n",
       ".hoogle-sub {\n",
       "display: block;\n",
       "margin-left: 0.4em;\n",
       "}\n",
       ".hoogle-package {\n",
       "font-weight: bold;\n",
       "font-style: italic;\n",
       "}\n",
       ".hoogle-module {\n",
       "font-weight: bold;\n",
       "}\n",
       ".hoogle-class {\n",
       "font-weight: bold;\n",
       "}\n",
       ".get-type {\n",
       "color: green;\n",
       "font-weight: bold;\n",
       "font-family: monospace;\n",
       "display: block;\n",
       "white-space: pre-wrap;\n",
       "}\n",
       ".show-type {\n",
       "color: green;\n",
       "font-weight: bold;\n",
       "font-family: monospace;\n",
       "margin-left: 1em;\n",
       "}\n",
       ".mono {\n",
       "font-family: monospace;\n",
       "display: block;\n",
       "}\n",
       ".err-msg {\n",
       "color: red;\n",
       "font-style: italic;\n",
       "font-family: monospace;\n",
       "white-space: pre;\n",
       "display: block;\n",
       "}\n",
       "#unshowable {\n",
       "color: red;\n",
       "font-weight: bold;\n",
       "}\n",
       ".err-msg.in.collapse {\n",
       "padding-top: 0.7em;\n",
       "}\n",
       ".highlight-code {\n",
       "white-space: pre;\n",
       "font-family: monospace;\n",
       "}\n",
       ".suggestion-warning { \n",
       "font-weight: bold;\n",
       "color: rgb(200, 130, 0);\n",
       "}\n",
       ".suggestion-error { \n",
       "font-weight: bold;\n",
       "color: red;\n",
       "}\n",
       ".suggestion-name {\n",
       "font-weight: bold;\n",
       "}\n",
       "</style><span class='get-type'>splits :: forall a. [a] -> [([a], [a])]</span>"
      ],
      "text/plain": [
       "splits :: forall a. [a] -> [([a], [a])]"
      ]
     },
     "metadata": {},
     "output_type": "display_data"
    }
   ],
   "source": [
    ":type splits"
   ]
  },
  {
   "cell_type": "code",
   "execution_count": 17,
   "id": "eae601f2-861b-4b54-abbe-945512c9aa6c",
   "metadata": {},
   "outputs": [
    {
     "data": {
      "text/plain": [
       "[(\"\",\"abcd\"),(\"a\",\"bcd\"),(\"ab\",\"cd\"),(\"abc\",\"d\"),(\"abcd\",\"\")]"
      ]
     },
     "metadata": {},
     "output_type": "display_data"
    }
   ],
   "source": [
    "splits \"abcd\""
   ]
  },
  {
   "cell_type": "code",
   "execution_count": 18,
   "id": "a030e596-3d01-4817-97fb-57484ede63b6",
   "metadata": {},
   "outputs": [
    {
     "data": {
      "text/plain": [
       "False"
      ]
     },
     "metadata": {},
     "output_type": "display_data"
    },
    {
     "data": {
      "text/plain": [
       "True"
      ]
     },
     "metadata": {},
     "output_type": "display_data"
    }
   ],
   "source": [
    "or [False,False,False,False]\n",
    "or [False,False,True,False]"
   ]
  },
  {
   "cell_type": "code",
   "execution_count": 19,
   "id": "385addcb-58f7-49ef-af43-21c393f19a9e",
   "metadata": {},
   "outputs": [],
   "source": [
    "match :: RE -> String -> Bool\n",
    "match Null _ = False\n",
    "match (Epsilon) s = s == \"\"\n",
    "match (Symbol a) s = s == [a]\n",
    "match (Union r1 r2) s = match r1 s || match r2 s\n",
    "match (Concat r1 r2) s = or [match r1 s1 && match r2 s2 | (s1, s2) <- splits s]\n",
    "match (Star r) s = match (Union Epsilon (Concat r (Star r))) s"
   ]
  },
  {
   "cell_type": "code",
   "execution_count": 20,
   "id": "5131999b-f64a-47f5-8f19-fc35771434dd",
   "metadata": {},
   "outputs": [
    {
     "data": {
      "text/plain": [
       "False"
      ]
     },
     "metadata": {},
     "output_type": "display_data"
    },
    {
     "data": {
      "text/plain": [
       "True"
      ]
     },
     "metadata": {},
     "output_type": "display_data"
    },
    {
     "data": {
      "text/plain": [
       "False"
      ]
     },
     "metadata": {},
     "output_type": "display_data"
    },
    {
     "data": {
      "text/plain": [
       "True"
      ]
     },
     "metadata": {},
     "output_type": "display_data"
    },
    {
     "data": {
      "text/plain": [
       "False"
      ]
     },
     "metadata": {},
     "output_type": "display_data"
    }
   ],
   "source": [
    "-- 테스트 작성\n",
    "match Null \"\"\n",
    "match Epsilon \"\"\n",
    "match Epsilon \"ab\"\n",
    "match (Symbol 'a') \"a\"\n",
    "match (Symbol 'a') \"ab\""
   ]
  },
  {
   "cell_type": "code",
   "execution_count": 21,
   "id": "8dffc5b4-07bf-4240-81db-114624bea6a5",
   "metadata": {},
   "outputs": [
    {
     "data": {
      "text/plain": [
       "True"
      ]
     },
     "metadata": {},
     "output_type": "display_data"
    },
    {
     "data": {
      "text/plain": [
       "True"
      ]
     },
     "metadata": {},
     "output_type": "display_data"
    },
    {
     "data": {
      "text/plain": [
       "False"
      ]
     },
     "metadata": {},
     "output_type": "display_data"
    }
   ],
   "source": [
    "match (Union Epsilon (Symbol 'a')) \"a\"\n",
    "match (Union Epsilon (Symbol 'a')) \"\"\n",
    "match (Union Epsilon (Symbol 'a')) \"ab\""
   ]
  },
  {
   "cell_type": "code",
   "execution_count": 22,
   "id": "b2ca1f74-f338-4dfb-948d-336402e4b3bc",
   "metadata": {},
   "outputs": [
    {
     "data": {
      "text/plain": [
       "True"
      ]
     },
     "metadata": {},
     "output_type": "display_data"
    },
    {
     "data": {
      "text/plain": [
       "False"
      ]
     },
     "metadata": {},
     "output_type": "display_data"
    }
   ],
   "source": [
    "match (Concat (Symbol 'a') (Symbol 'b')) \"ab\"\n",
    "match (Concat (Symbol 'a') (Symbol 'b')) \"a\""
   ]
  },
  {
   "cell_type": "code",
   "execution_count": 23,
   "id": "7302f9a1-07a3-4d41-9622-bd5cfc616574",
   "metadata": {},
   "outputs": [
    {
     "data": {
      "text/plain": [
       "True"
      ]
     },
     "metadata": {},
     "output_type": "display_data"
    },
    {
     "data": {
      "text/plain": [
       "True"
      ]
     },
     "metadata": {},
     "output_type": "display_data"
    },
    {
     "data": {
      "text/plain": [
       "True"
      ]
     },
     "metadata": {},
     "output_type": "display_data"
    },
    {
     "data": {
      "text/plain": [
       "False"
      ]
     },
     "metadata": {},
     "output_type": "display_data"
    },
    {
     "data": {
      "text/plain": [
       "True"
      ]
     },
     "metadata": {},
     "output_type": "display_data"
    },
    {
     "data": {
      "text/plain": [
       "True"
      ]
     },
     "metadata": {},
     "output_type": "display_data"
    },
    {
     "data": {
      "text/plain": [
       "True"
      ]
     },
     "metadata": {},
     "output_type": "display_data"
    },
    {
     "data": {
      "text/plain": [
       "True"
      ]
     },
     "metadata": {},
     "output_type": "display_data"
    },
    {
     "data": {
      "text/plain": [
       "False"
      ]
     },
     "metadata": {},
     "output_type": "display_data"
    }
   ],
   "source": [
    "match (Star (Union(Symbol 'a')(Symbol 'b'))) \"\"\n",
    "match (Star (Union(Symbol 'a')(Symbol 'b'))) \"a\"\n",
    "match (Star (Union(Symbol 'a')(Symbol 'b'))) \"b\"\n",
    "match (Star (Union(Symbol 'a')(Symbol 'b'))) \"c\"\n",
    "match (Star (Union(Symbol 'a')(Symbol 'b'))) \"aa\"\n",
    "match (Star (Union(Symbol 'a')(Symbol 'b'))) \"ab\"\n",
    "match (Star (Union(Symbol 'a')(Symbol 'b'))) \"ba\"\n",
    "match (Star (Union(Symbol 'a')(Symbol 'b'))) \"bb\"\n",
    "match (Star (Union(Symbol 'a')(Symbol 'b'))) \"ac\""
   ]
  },
  {
   "cell_type": "markdown",
   "id": "62ee5372-1db6-4c7a-ba06-ec816f07e25d",
   "metadata": {},
   "source": [
    "----\n",
    "## 다음 성질을 만족하는 `revRE :: RE -> RE`를 작성하라 (150점)\n",
    "$$[\\![\\textsf{revRE}(r)]\\!](x) = [\\![r]\\!](x^R)$$\n",
    "함수를 작성한 다음 의도한 대로 동작하는지 테스트해 보라."
   ]
  },
  {
   "cell_type": "code",
   "execution_count": 24,
   "id": "fd30e0d0-3a90-4284-b71d-c66c4aece5f9",
   "metadata": {},
   "outputs": [],
   "source": [
    "revRE :: RE -> RE\n",
    "revRE Null = Null\n",
    "revRE Epsilon = Epsilon\n",
    "revRE (Symbol a) = (Symbol a)\n",
    "revRE (Union r1 r2) = Union (revRE r2) (revRE r1)\n",
    "revRE (Concat r1 r2) = Concat (revRE r2) (revRE r1)\n",
    "revRE (Star r) = (Star (revRE r))"
   ]
  },
  {
   "cell_type": "code",
   "execution_count": 25,
   "id": "69421a56-1369-49f7-bd73-9334a2aa05bb",
   "metadata": {},
   "outputs": [
    {
     "data": {
      "text/latex": [
       "$a\\varepsilon{}(\\varnothing{} | b)^{*}$"
      ]
     },
     "metadata": {},
     "output_type": "display_data"
    },
    {
     "data": {
      "text/latex": [
       "$(b | \\varnothing{})^{*}\\varepsilon{}a$"
      ]
     },
     "metadata": {},
     "output_type": "display_data"
    }
   ],
   "source": [
    "ra = Symbol 'a'\n",
    "rb = Symbol 'b'\n",
    "\n",
    "r3 = Concat (Concat ra Epsilon) (Star (Union Null rb))\n",
    "\n",
    "r3\n",
    "revRE r3"
   ]
  },
  {
   "cell_type": "code",
   "execution_count": 26,
   "id": "e8e26d64-497c-4af8-9ea7-3ef718e1f451",
   "metadata": {},
   "outputs": [
    {
     "data": {
      "text/plain": [
       "False"
      ]
     },
     "metadata": {},
     "output_type": "display_data"
    },
    {
     "data": {
      "text/plain": [
       "True"
      ]
     },
     "metadata": {},
     "output_type": "display_data"
    },
    {
     "data": {
      "text/plain": [
       "True"
      ]
     },
     "metadata": {},
     "output_type": "display_data"
    },
    {
     "data": {
      "text/plain": [
       "True"
      ]
     },
     "metadata": {},
     "output_type": "display_data"
    },
    {
     "data": {
      "text/plain": [
       "False"
      ]
     },
     "metadata": {},
     "output_type": "display_data"
    }
   ],
   "source": [
    "match r3 \"\"\n",
    "match r3 \"a\"\n",
    "match r3 \"ab\"\n",
    "match r3 \"abb\"\n",
    "match r3 \"aba\""
   ]
  },
  {
   "cell_type": "code",
   "execution_count": 27,
   "id": "ee84956a-73fc-4e3b-ab8c-f8a776023e0d",
   "metadata": {},
   "outputs": [
    {
     "data": {
      "text/plain": [
       "False"
      ]
     },
     "metadata": {},
     "output_type": "display_data"
    },
    {
     "data": {
      "text/plain": [
       "True"
      ]
     },
     "metadata": {},
     "output_type": "display_data"
    },
    {
     "data": {
      "text/plain": [
       "True"
      ]
     },
     "metadata": {},
     "output_type": "display_data"
    },
    {
     "data": {
      "text/plain": [
       "True"
      ]
     },
     "metadata": {},
     "output_type": "display_data"
    },
    {
     "data": {
      "text/plain": [
       "False"
      ]
     },
     "metadata": {},
     "output_type": "display_data"
    }
   ],
   "source": [
    "r3R = revRE r3\n",
    "match r3R $ reverse \"\"\n",
    "match r3R $ reverse \"a\"\n",
    "match r3R $ reverse \"ab\"\n",
    "match r3R $ reverse \"abb\"\n",
    "match r3R $ reverse \"aba\""
   ]
  },
  {
   "cell_type": "code",
   "execution_count": null,
   "id": "4c33b5ed-13e7-4027-ba44-05dbb7aced6c",
   "metadata": {},
   "outputs": [],
   "source": []
  }
 ],
 "metadata": {
  "kernelspec": {
   "display_name": "Haskell",
   "language": "haskell",
   "name": "haskell"
  },
  "language_info": {
   "codemirror_mode": "ihaskell",
   "file_extension": ".hs",
   "mimetype": "text/x-haskell",
   "name": "haskell",
   "pygments_lexer": "Haskell",
   "version": "8.10.7"
  }
 },
 "nbformat": 4,
 "nbformat_minor": 5
}
