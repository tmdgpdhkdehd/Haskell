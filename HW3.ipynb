{
 "cells": [
  {
   "cell_type": "markdown",
   "id": "df72dac4-f7ac-4fca-ba0f-13f0852aba4c",
   "metadata": {},
   "source": [
    "# HW3 (프로그래밍언어론 2022년 1학기)"
   ]
  },
  {
   "cell_type": "markdown",
   "id": "b3ed9693-2d1d-452e-a76d-03e4ae77fa55",
   "metadata": {},
   "source": [
    "- 이름: 김승혜\n",
    "- 학번: 20190595"
   ]
  },
  {
   "cell_type": "markdown",
   "id": "0dc04f45-1bc8-463b-bb79-1a5cc17aba29",
   "metadata": {},
   "source": [
    "이름과 학번을 위에 작성하시오.\n",
    "\n",
    "----\n",
    "## 1번\n",
    "피보나치 함수의 경우 0부터 시작하는 경우로 fib 0 == 0, fib 1 == 1, fib 2 ==1 이고 음수 인자에 대해서는 정상 실행되지 않아도 됨"
   ]
  },
  {
   "cell_type": "code",
   "execution_count": 1,
   "id": "1ac64b75-35f6-4db9-bcd9-8e7086e2c6ac",
   "metadata": {},
   "outputs": [],
   "source": [
    ":opt no-lint\n",
    "{-# LANGUAGE ScopedTypeVariables TypeApplications RankNTypes KindSignatures TypeSynonymInstances FlexibleInstances  #-}"
   ]
  },
  {
   "cell_type": "code",
   "execution_count": 1,
   "id": "1ba26de5-e335-4bb8-9dc6-adbceedd41b6",
   "metadata": {},
   "outputs": [],
   "source": [
    "fib :: Integer -> Integer\n",
    "fib  0  =  0 \n",
    "fib  1  =  1 \n",
    "fib  2  =  1\n",
    "fib  n  =  fib  ( n - 1 )  +  fib  ( n - 2 )"
   ]
  },
  {
   "cell_type": "code",
   "execution_count": 2,
   "id": "520b176d-561e-4640-8eec-e9e14c2b7041",
   "metadata": {},
   "outputs": [
    {
     "data": {
      "text/plain": [
       "0"
      ]
     },
     "metadata": {},
     "output_type": "display_data"
    },
    {
     "data": {
      "text/plain": [
       "1"
      ]
     },
     "metadata": {},
     "output_type": "display_data"
    },
    {
     "data": {
      "text/plain": [
       "1"
      ]
     },
     "metadata": {},
     "output_type": "display_data"
    },
    {
     "data": {
      "text/plain": [
       "34"
      ]
     },
     "metadata": {},
     "output_type": "display_data"
    }
   ],
   "source": [
    "fib 0\n",
    "fib 1\n",
    "fib 2\n",
    "fib 9"
   ]
  },
  {
   "cell_type": "markdown",
   "id": "b927625f-b570-4ec3-8d35-8b0f90e14e70",
   "metadata": {},
   "source": [
    "----\n",
    "## 2번\n",
    "[45]번 셀의 fromInt2Nat, fromNat2Int, fromNat2NAT, fromNAT2Nat 함수 선언을 완성하라.\n",
    "\n",
    "라이브러리 함수 등 사용하지 말고 직접 재귀함수로 작성"
   ]
  },
  {
   "cell_type": "code",
   "execution_count": 4,
   "id": "48710c7f",
   "metadata": {},
   "outputs": [],
   "source": [
    "data Nat = S Nat | Z deriving (Show)"
   ]
  },
  {
   "cell_type": "code",
   "execution_count": 5,
   "id": "cad24c41",
   "metadata": {},
   "outputs": [],
   "source": [
    "fromInt2Nat :: Int -> Nat\n",
    "fromInt2Nat 0 = Z\n",
    "fromInt2Nat n = S (fromInt2Nat (n - 1))"
   ]
  },
  {
   "cell_type": "code",
   "execution_count": 6,
   "id": "850e17a5-137e-4cc3-8051-a7b73c0fa6df",
   "metadata": {},
   "outputs": [
    {
     "data": {
      "text/plain": [
       "S (S (S (S (S Z))))"
      ]
     },
     "metadata": {},
     "output_type": "display_data"
    }
   ],
   "source": [
    "fromInt2Nat 5"
   ]
  },
  {
   "cell_type": "code",
   "execution_count": 7,
   "id": "01ddf892-070d-429d-ae0e-1603dc885f09",
   "metadata": {},
   "outputs": [],
   "source": [
    "fromNat2Int :: Nat -> Int\n",
    "fromNat2Int Z = 0\n",
    "fromNat2Int (S n) = 1 + fromNat2Int n"
   ]
  },
  {
   "cell_type": "code",
   "execution_count": 8,
   "id": "6dec9025-9969-42b2-ba0d-78170e1e9599",
   "metadata": {},
   "outputs": [
    {
     "data": {
      "text/plain": [
       "5"
      ]
     },
     "metadata": {},
     "output_type": "display_data"
    }
   ],
   "source": [
    "fromNat2Int (fromInt2Nat 5)"
   ]
  },
  {
   "cell_type": "code",
   "execution_count": 9,
   "id": "02e0fa03-2880-4f18-8dc3-16e5cd722fa0",
   "metadata": {},
   "outputs": [],
   "source": [
    "type NAT = forall a. (a -> a) -> a -> a\n",
    "s :: NAT -> NAT\n",
    "s = \\n -> \\f -> \\x -> f (n f x)\n",
    "z :: NAT\n",
    "z = \\f -> \\x -> x"
   ]
  },
  {
   "cell_type": "code",
   "execution_count": 10,
   "id": "729ff29c-ced1-4e0d-8fe6-598606c8194a",
   "metadata": {},
   "outputs": [],
   "source": [
    "fromNat2NAT :: Nat -> NAT\n",
    "fromNat2NAT Z = z\n",
    "fromNat2NAT (S n) = s (fromNat2NAT n)"
   ]
  },
  {
   "cell_type": "code",
   "execution_count": 11,
   "id": "385addcb-58f7-49ef-af43-21c393f19a9e",
   "metadata": {},
   "outputs": [],
   "source": [
    "fromNAT2Nat :: NAT -> Nat\n",
    "fromNAT2Nat n = S (fromNAT2Nat n)"
   ]
  },
  {
   "cell_type": "markdown",
   "id": "86cb4b2e-a4bf-436a-b36c-ac3d0b1054bf",
   "metadata": {},
   "source": [
    "----\n",
    "## 3번\n",
    "[59]번 셀에서 각각 다른 데이터 타입으로 표현된 세 그루의 트리를 더 일반적인 GTree 데이터 타입으로 모두 옮겨 보라."
   ]
  },
  {
   "cell_type": "code",
   "execution_count": 12,
   "id": "5131999b-f64a-47f5-8f19-fc35771434dd",
   "metadata": {},
   "outputs": [],
   "source": [
    "data GTree (f :: * -> *) (a :: *) = GNil | GNode a (f (GTree f a))\n",
    "{-# LANGUAGE StandaloneDeriving UndecidableInstances #-}\n",
    "deriving instance (Show a, Show (f (GTree f a))) => Show (GTree f a)"
   ]
  },
  {
   "cell_type": "code",
   "execution_count": 13,
   "id": "fd30e0d0-3a90-4284-b71d-c66c4aece5f9",
   "metadata": {},
   "outputs": [],
   "source": [
    "data BTreeI = BNilI | BNodeI Int (BTreeI, BTreeI) deriving Show\n",
    "data BTreeB = BNilB | BNodeB Bool (BTreeB, BTreeB) deriving Show\n",
    "data BTreeC = BNilC | BNodeC Char (BTreeC, BTreeC) deriving Show"
   ]
  },
  {
   "cell_type": "code",
   "execution_count": 14,
   "id": "ba6c7d56-e1fc-4930-b4a0-595c3d611fa6",
   "metadata": {},
   "outputs": [],
   "source": [
    "data UTree a = UNil | UNode a (UTree a) deriving Show\n",
    "data BTree a = BNil | BNode a (BTree a, BTree a) deriving Show\n",
    "data TTree a = TNil | TNode a (TTree a, TTree a, TTree a) deriving Show"
   ]
  },
  {
   "cell_type": "code",
   "execution_count": 15,
   "id": "59b09651-5468-4cfc-82a2-259dcffde79d",
   "metadata": {},
   "outputs": [
    {
     "data": {
      "text/plain": [
       "UNode 1 (UNode 11 UNil)"
      ]
     },
     "metadata": {},
     "output_type": "display_data"
    },
    {
     "data": {
      "text/plain": [
       "BNode 1 (BNode 11 (BNil,BNil),BNode 12 (BNil,BNil))"
      ]
     },
     "metadata": {},
     "output_type": "display_data"
    },
    {
     "data": {
      "text/plain": [
       "TNode 1 (TNode 11 (TNil,TNil,TNil),TNode 12 (TNil,TNil,TNil),TNode 13 (TNil,TNil,TNil))"
      ]
     },
     "metadata": {},
     "output_type": "display_data"
    }
   ],
   "source": [
    "UNode 1 (UNode 11 UNil)\n",
    "\n",
    "BNode 1 (BNode 11 (BNil, BNil),\n",
    "         BNode 12 (BNil, BNil) )\n",
    "\n",
    "TNode 1 (TNode 11 (TNil, TNil, TNil),\n",
    "         TNode 12 (TNil, TNil, TNil),\n",
    "         TNode 13 (TNil, TNil, TNil) )"
   ]
  },
  {
   "cell_type": "code",
   "execution_count": 16,
   "id": "ad613151-553d-480f-a458-95558b870ec0",
   "metadata": {},
   "outputs": [],
   "source": [
    "data UF a = C1 a deriving Show\n",
    "data BF a = C2 (a,a) deriving Show\n",
    "data TF a = C3 (a,a,a) deriving Show"
   ]
  },
  {
   "cell_type": "code",
   "execution_count": 17,
   "id": "62fbc566-32c7-44bb-8466-03ba8a5aa808",
   "metadata": {},
   "outputs": [
    {
     "data": {
      "text/plain": [
       "GNode 1 (C1 (GNode 11 (C1 GNil)))"
      ]
     },
     "metadata": {},
     "output_type": "display_data"
    },
    {
     "data": {
      "text/plain": [
       "GNode 1 (C2 (GNode 11 (C2 (GNil,GNil)),GNode 12 (C2 (GNil,GNil))))"
      ]
     },
     "metadata": {},
     "output_type": "display_data"
    },
    {
     "data": {
      "text/plain": [
       "GNode 1 (C3 (GNode 11 (C3 (GNil,GNil,GNil)),GNode 12 (C3 (GNil,GNil,GNil)),GNode 13 (C3 (GNil,GNil,GNil))))"
      ]
     },
     "metadata": {},
     "output_type": "display_data"
    }
   ],
   "source": [
    "GNode 1 (C1 (GNode 11 (C1 GNil)))\n",
    "GNode 1 (C2 ((GNode 11 (C2 (GNil, GNil))),\n",
    "        (GNode 12 (C2 (GNil, GNil)))))\n",
    "GNode 1 (C3 ((GNode 11 (C3 (GNil, GNil, GNil))),\n",
    "        (GNode 12 (C3 (GNil, GNil, GNil))),\n",
    "        (GNode 13 (C3 (GNil, GNil, GNil)))))"
   ]
  },
  {
   "cell_type": "markdown",
   "id": "6604d071-2ef1-4bc2-86d7-53391ba5fecf",
   "metadata": {},
   "source": [
    "----\n",
    "## 4번\n",
    "마지막 문단에 요구하는 내용대로 bigStepCBV와 bigStepCBN 작성하고 테스트"
   ]
  },
  {
   "cell_type": "code",
   "execution_count": null,
   "id": "67a66aea-f499-4d58-9db0-51c811af0000",
   "metadata": {},
   "outputs": [],
   "source": []
  }
 ],
 "metadata": {
  "kernelspec": {
   "display_name": "Haskell",
   "language": "haskell",
   "name": "haskell"
  },
  "language_info": {
   "codemirror_mode": "ihaskell",
   "file_extension": ".hs",
   "mimetype": "text/x-haskell",
   "name": "haskell",
   "pygments_lexer": "Haskell",
   "version": "8.10.7"
  }
 },
 "nbformat": 4,
 "nbformat_minor": 5
}
